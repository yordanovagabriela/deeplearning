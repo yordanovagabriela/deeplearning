{
 "cells": [
  {
   "cell_type": "markdown",
   "metadata": {},
   "source": [
    "# Image features exercise\n",
    "*Complete and hand in this completed worksheet (including its outputs and any supporting code outside of the worksheet) with your assignment submission. For more details see the [assignments page](https://deep-learning-su.github.io/assignment-requirements/) on the course website.*\n",
    "\n",
    "We have seen that we can achieve reasonable performance on an image classification task by training a linear classifier on the pixels of the input image. In this exercise we will show that we can improve our classification performance by training linear classifiers not on raw pixels but on features that are computed from the raw pixels.\n",
    "\n",
    "All of your work for this exercise will be done in this notebook."
   ]
  },
  {
   "cell_type": "code",
   "execution_count": 1,
   "metadata": {},
   "outputs": [],
   "source": [
    "from __future__ import print_function\n",
    "\n",
    "import random\n",
    "import numpy as np\n",
    "from deep_learning_su.data_utils import load_CIFAR10\n",
    "import matplotlib.pyplot as plt\n",
    "\n",
    "\n",
    "%matplotlib inline\n",
    "plt.rcParams['figure.figsize'] = (10.0, 8.0) # set default size of plots\n",
    "plt.rcParams['image.interpolation'] = 'nearest'\n",
    "plt.rcParams['image.cmap'] = 'gray'\n",
    "\n",
    "# for auto-reloading extenrnal modules\n",
    "# see http://stackoverflow.com/questions/1907993/autoreload-of-modules-in-ipython\n",
    "%load_ext autoreload\n",
    "%autoreload 2\n",
    "\n",
    "import warnings\n",
    "warnings.filterwarnings(\"ignore\")"
   ]
  },
  {
   "cell_type": "markdown",
   "metadata": {},
   "source": [
    "## Load data\n",
    "Similar to previous exercises, we will load CIFAR-10 data from disk."
   ]
  },
  {
   "cell_type": "code",
   "execution_count": 2,
   "metadata": {},
   "outputs": [],
   "source": [
    "from deep_learning_su.features import color_histogram_hsv, hog_feature\n",
    "\n",
    "def get_CIFAR10_data(num_training=49000, num_validation=1000, num_test=1000):\n",
    "    # Load the raw CIFAR-10 data\n",
    "    cifar10_dir = 'deep_learning_su/datasets/cifar-10-batches-py'\n",
    "    X_train, y_train, X_test, y_test = load_CIFAR10(cifar10_dir)\n",
    "    \n",
    "    # Subsample the data\n",
    "    mask = list(range(num_training, num_training + num_validation))\n",
    "    X_val = X_train[mask]\n",
    "    y_val = y_train[mask]\n",
    "    mask = list(range(num_training))\n",
    "    X_train = X_train[mask]\n",
    "    y_train = y_train[mask]\n",
    "    mask = list(range(num_test))\n",
    "    X_test = X_test[mask]\n",
    "    y_test = y_test[mask]\n",
    "    \n",
    "    return X_train, y_train, X_val, y_val, X_test, y_test\n",
    "\n",
    "X_train, y_train, X_val, y_val, X_test, y_test = get_CIFAR10_data()"
   ]
  },
  {
   "cell_type": "markdown",
   "metadata": {},
   "source": [
    "## Extract Features\n",
    "For each image we will compute a Histogram of Oriented\n",
    "Gradients (HOG) as well as a color histogram using the hue channel in HSV\n",
    "color space. We form our final feature vector for each image by concatenating\n",
    "the HOG and color histogram feature vectors.\n",
    "\n",
    "Roughly speaking, HOG should capture the texture of the image while ignoring\n",
    "color information, and the color histogram represents the color of the input\n",
    "image while ignoring texture. As a result, we expect that using both together\n",
    "ought to work better than using either alone. Verifying this assumption would\n",
    "be a good thing to try for the bonus section.\n",
    "\n",
    "The `hog_feature` and `color_histogram_hsv` functions both operate on a single\n",
    "image and return a feature vector for that image. The extract_features\n",
    "function takes a set of images and a list of feature functions and evaluates\n",
    "each feature function on each image, storing the results in a matrix where\n",
    "each column is the concatenation of all feature vectors for a single image."
   ]
  },
  {
   "cell_type": "code",
   "execution_count": 3,
   "metadata": {},
   "outputs": [
    {
     "name": "stdout",
     "output_type": "stream",
     "text": [
      "Done extracting features for 1000 / 49000 images\n",
      "Done extracting features for 2000 / 49000 images\n",
      "Done extracting features for 3000 / 49000 images\n",
      "Done extracting features for 4000 / 49000 images\n",
      "Done extracting features for 5000 / 49000 images\n",
      "Done extracting features for 6000 / 49000 images\n",
      "Done extracting features for 7000 / 49000 images\n",
      "Done extracting features for 8000 / 49000 images\n",
      "Done extracting features for 9000 / 49000 images\n",
      "Done extracting features for 10000 / 49000 images\n",
      "Done extracting features for 11000 / 49000 images\n",
      "Done extracting features for 12000 / 49000 images\n",
      "Done extracting features for 13000 / 49000 images\n",
      "Done extracting features for 14000 / 49000 images\n",
      "Done extracting features for 15000 / 49000 images\n",
      "Done extracting features for 16000 / 49000 images\n",
      "Done extracting features for 17000 / 49000 images\n",
      "Done extracting features for 18000 / 49000 images\n",
      "Done extracting features for 19000 / 49000 images\n",
      "Done extracting features for 20000 / 49000 images\n",
      "Done extracting features for 21000 / 49000 images\n",
      "Done extracting features for 22000 / 49000 images\n",
      "Done extracting features for 23000 / 49000 images\n",
      "Done extracting features for 24000 / 49000 images\n",
      "Done extracting features for 25000 / 49000 images\n",
      "Done extracting features for 26000 / 49000 images\n",
      "Done extracting features for 27000 / 49000 images\n",
      "Done extracting features for 28000 / 49000 images\n",
      "Done extracting features for 29000 / 49000 images\n",
      "Done extracting features for 30000 / 49000 images\n",
      "Done extracting features for 31000 / 49000 images\n",
      "Done extracting features for 32000 / 49000 images\n",
      "Done extracting features for 33000 / 49000 images\n",
      "Done extracting features for 34000 / 49000 images\n",
      "Done extracting features for 35000 / 49000 images\n",
      "Done extracting features for 36000 / 49000 images\n",
      "Done extracting features for 37000 / 49000 images\n",
      "Done extracting features for 38000 / 49000 images\n",
      "Done extracting features for 39000 / 49000 images\n",
      "Done extracting features for 40000 / 49000 images\n",
      "Done extracting features for 41000 / 49000 images\n",
      "Done extracting features for 42000 / 49000 images\n",
      "Done extracting features for 43000 / 49000 images\n",
      "Done extracting features for 44000 / 49000 images\n",
      "Done extracting features for 45000 / 49000 images\n",
      "Done extracting features for 46000 / 49000 images\n",
      "Done extracting features for 47000 / 49000 images\n",
      "Done extracting features for 48000 / 49000 images\n"
     ]
    }
   ],
   "source": [
    "from deep_learning_su.features import *\n",
    "\n",
    "num_color_bins = 10 # Number of bins in the color histogram\n",
    "feature_fns = [hog_feature, lambda img: color_histogram_hsv(img, nbin=num_color_bins)]\n",
    "X_train_feats = extract_features(X_train, feature_fns, verbose=True)\n",
    "X_val_feats = extract_features(X_val, feature_fns)\n",
    "X_test_feats = extract_features(X_test, feature_fns)\n",
    "\n",
    "# Preprocessing: Subtract the mean feature\n",
    "mean_feat = np.mean(X_train_feats, axis=0, keepdims=True)\n",
    "X_train_feats -= mean_feat\n",
    "X_val_feats -= mean_feat\n",
    "X_test_feats -= mean_feat\n",
    "\n",
    "# Preprocessing: Divide by standard deviation. This ensures that each feature\n",
    "# has roughly the same scale.\n",
    "std_feat = np.std(X_train_feats, axis=0, keepdims=True)\n",
    "X_train_feats /= std_feat\n",
    "X_val_feats /= std_feat\n",
    "X_test_feats /= std_feat\n",
    "\n",
    "# Preprocessing: Add a bias dimension\n",
    "X_train_feats = np.hstack([X_train_feats, np.ones((X_train_feats.shape[0], 1))])\n",
    "X_val_feats = np.hstack([X_val_feats, np.ones((X_val_feats.shape[0], 1))])\n",
    "X_test_feats = np.hstack([X_test_feats, np.ones((X_test_feats.shape[0], 1))])"
   ]
  },
  {
   "cell_type": "markdown",
   "metadata": {},
   "source": [
    "## Train SVM on features\n",
    "Using the multiclass SVM code developed earlier in the assignment, train SVMs on top of the features extracted above; this should achieve better results than training SVMs directly on top of raw pixels."
   ]
  },
  {
   "cell_type": "code",
   "execution_count": 4,
   "metadata": {},
   "outputs": [
    {
     "name": "stdout",
     "output_type": "stream",
     "text": [
      "lr 1.000000e-09 reg 4.500000e+04 train accuracy: 0.113143 val accuracy: 0.121000\n",
      "lr 1.000000e-09 reg 5.000000e+04 train accuracy: 0.109224 val accuracy: 0.105000\n",
      "lr 1.000000e-09 reg 5.500000e+04 train accuracy: 0.076857 val accuracy: 0.085000\n",
      "lr 1.000000e-09 reg 5.000000e+05 train accuracy: 0.102143 val accuracy: 0.086000\n",
      "lr 1.000000e-09 reg 5.000000e+06 train accuracy: 0.413265 val accuracy: 0.420000\n",
      "lr 1.000000e-08 reg 4.500000e+04 train accuracy: 0.095939 val accuracy: 0.098000\n",
      "lr 1.000000e-08 reg 5.000000e+04 train accuracy: 0.117531 val accuracy: 0.111000\n",
      "lr 1.000000e-08 reg 5.500000e+04 train accuracy: 0.106347 val accuracy: 0.109000\n",
      "lr 1.000000e-08 reg 5.000000e+05 train accuracy: 0.413898 val accuracy: 0.418000\n",
      "lr 1.000000e-08 reg 5.000000e+06 train accuracy: 0.400571 val accuracy: 0.388000\n",
      "lr 1.000000e-07 reg 4.500000e+04 train accuracy: 0.417796 val accuracy: 0.418000\n",
      "lr 1.000000e-07 reg 5.000000e+04 train accuracy: 0.413041 val accuracy: 0.415000\n",
      "lr 1.000000e-07 reg 5.500000e+04 train accuracy: 0.412714 val accuracy: 0.416000\n",
      "lr 1.000000e-07 reg 5.000000e+05 train accuracy: 0.403245 val accuracy: 0.397000\n",
      "lr 1.000000e-07 reg 5.000000e+06 train accuracy: 0.303286 val accuracy: 0.302000\n",
      "lr 2.000000e-07 reg 4.500000e+04 train accuracy: 0.410714 val accuracy: 0.416000\n",
      "lr 2.000000e-07 reg 5.000000e+04 train accuracy: 0.415449 val accuracy: 0.413000\n",
      "lr 2.000000e-07 reg 5.500000e+04 train accuracy: 0.415694 val accuracy: 0.425000\n",
      "lr 2.000000e-07 reg 5.000000e+05 train accuracy: 0.397347 val accuracy: 0.388000\n",
      "lr 2.000000e-07 reg 5.000000e+06 train accuracy: 0.099571 val accuracy: 0.097000\n",
      "lr 1.000000e-06 reg 4.500000e+04 train accuracy: 0.408878 val accuracy: 0.418000\n",
      "lr 1.000000e-06 reg 5.000000e+04 train accuracy: 0.402327 val accuracy: 0.424000\n",
      "lr 1.000000e-06 reg 5.500000e+04 train accuracy: 0.406286 val accuracy: 0.391000\n",
      "lr 1.000000e-06 reg 5.000000e+05 train accuracy: 0.317061 val accuracy: 0.309000\n",
      "lr 1.000000e-06 reg 5.000000e+06 train accuracy: 0.100265 val accuracy: 0.087000\n",
      "lr 2.000000e-06 reg 4.500000e+04 train accuracy: 0.391347 val accuracy: 0.398000\n",
      "lr 2.000000e-06 reg 5.000000e+04 train accuracy: 0.404510 val accuracy: 0.413000\n",
      "lr 2.000000e-06 reg 5.500000e+04 train accuracy: 0.399224 val accuracy: 0.414000\n",
      "lr 2.000000e-06 reg 5.000000e+05 train accuracy: 0.099898 val accuracy: 0.091000\n",
      "lr 2.000000e-06 reg 5.000000e+06 train accuracy: 0.100265 val accuracy: 0.087000\n",
      "best validation accuracy achieved during cross-validation: 0.425000\n"
     ]
    }
   ],
   "source": [
    "# Use the validation set to tune the learning rate and regularization strength\n",
    "\n",
    "from deep_learning_su.classifiers.linear_classifier import LinearSVM\n",
    "\n",
    "learning_rates = [1e-9, 1e-8, 1e-7, 1e-6, 2e-7, 2e-6]\n",
    "regularization_strengths = [4.5e4, 5e4, 5.5e4, 5e5, 5e6]\n",
    "\n",
    "results = {}\n",
    "best_val = -1\n",
    "best_svm = None\n",
    "\n",
    "################################################################################\n",
    "# TODO:                                                                        #\n",
    "# Use the validation set to set the learning rate and regularization strength. #\n",
    "# This should be identical to the validation that you did for the SVM; save    #\n",
    "# the best trained classifer in best_svm. You might also want to play          #\n",
    "# with different numbers of bins in the color histogram. If you are careful    #\n",
    "# you should be able to get accuracy of near 0.44 on the validation set.       #\n",
    "################################################################################\n",
    "grid_search = [(lr,reg) for lr in learning_rates for reg in regularization_strengths]\n",
    "\n",
    "for lr, reg in grid_search:\n",
    "    svm = LinearSVM()\n",
    "    \n",
    "    svm.train(X_train_feats, y_train, learning_rate=lr, reg=reg, num_iters=1500, batch_size=200, verbose=False)\n",
    "    \n",
    "    y_train_pred = svm.predict(X_train_feats)\n",
    "    train_accuracy = np.mean(y_train_pred == y_train)\n",
    "    \n",
    "    y_val_pred = svm.predict(X_val_feats)\n",
    "    val_accuracy = np.mean(y_val_pred == y_val)\n",
    "    \n",
    "    results[lr,reg] = (train_accuracy,val_accuracy)\n",
    "    \n",
    "    if val_accuracy > best_val:\n",
    "        best_val = val_accuracy\n",
    "        best_svm = svm\n",
    "################################################################################\n",
    "#                              END OF YOUR CODE                                #\n",
    "################################################################################\n",
    "\n",
    "# Print out results.\n",
    "for lr, reg in sorted(results):\n",
    "    train_accuracy, val_accuracy = results[(lr, reg)]\n",
    "    print('lr %e reg %e train accuracy: %f val accuracy: %f' % (\n",
    "                lr, reg, train_accuracy, val_accuracy))\n",
    "    \n",
    "print('best validation accuracy achieved during cross-validation: %f' % best_val)"
   ]
  },
  {
   "cell_type": "code",
   "execution_count": 5,
   "metadata": {},
   "outputs": [
    {
     "name": "stdout",
     "output_type": "stream",
     "text": [
      "0.415\n"
     ]
    }
   ],
   "source": [
    "# Evaluate your trained SVM on the test set\n",
    "y_test_pred = best_svm.predict(X_test_feats)\n",
    "test_accuracy = np.mean(y_test == y_test_pred)\n",
    "print(test_accuracy)"
   ]
  },
  {
   "cell_type": "code",
   "execution_count": null,
   "metadata": {},
   "outputs": [],
   "source": [
    "# An important way to gain intuition about how an algorithm works is to\n",
    "# visualize the mistakes that it makes. In this visualization, we show examples\n",
    "# of images that are misclassified by our current system. The first column\n",
    "# shows images that our system labeled as \"plane\" but whose true label is\n",
    "# something other than \"plane\".\n",
    "\n",
    "examples_per_class = 8\n",
    "classes = ['plane', 'car', 'bird', 'cat', 'deer', 'dog', 'frog', 'horse', 'ship', 'truck']\n",
    "for cls, cls_name in enumerate(classes):\n",
    "    idxs = np.where((y_test != cls) & (y_test_pred == cls))[0]\n",
    "    idxs = np.random.choice(idxs, examples_per_class, replace=False)\n",
    "    for i, idx in enumerate(idxs):\n",
    "        plt.subplot(examples_per_class, len(classes), i * len(classes) + cls + 1)\n",
    "        plt.imshow(X_test[idx].astype('uint8'))\n",
    "        plt.axis('off')\n",
    "        if i == 0:\n",
    "            plt.title(cls_name)\n",
    "plt.show()"
   ]
  },
  {
   "cell_type": "markdown",
   "metadata": {},
   "source": [
    "### Inline question 1:\n",
    "Describe the misclassification results that you see. Do they make sense?\n",
    "\n",
    "**Your answer**:\n",
    "\n",
    "For some of the classes the misclassifications make sense. For example cars and trucks or cats and dogs. Cats and dogs are similar in shape (i.e in sense of edges - HOG), they have four legs, tail and so on. That is why we have also misslacification for horses and deers in the cat/dog class. Trucks and cars can also be missclassified for the same purpose.\n",
    "\n",
    "For the plane class we have misslacifications because of the similar colors (color histogram feature), i.e a bird (and a ship) is classified as plane, because of the blue background typical for plane pictures.\n",
    "\n",
    "There are also some strange misslacifications, for example a horse/deer classified as a bird (maybe it is still because of color similarity)."
   ]
  },
  {
   "cell_type": "markdown",
   "metadata": {},
   "source": [
    "## Neural Network on image features\n",
    "Earlier in this assigment we saw that training a two-layer neural network on raw pixels achieved better classification performance than linear classifiers on raw pixels. In this notebook we have seen that linear classifiers on image features outperform linear classifiers on raw pixels. \n",
    "\n",
    "For completeness, we should also try training a neural network on image features. This approach should outperform all previous approaches: you should easily be able to achieve over 55% classification accuracy on the test set; our best model achieves about 60% classification accuracy."
   ]
  },
  {
   "cell_type": "code",
   "execution_count": null,
   "metadata": {},
   "outputs": [],
   "source": [
    "print(X_train_feats.shape)"
   ]
  },
  {
   "cell_type": "code",
   "execution_count": 8,
   "metadata": {},
   "outputs": [
    {
     "name": "stdout",
     "output_type": "stream",
     "text": [
      "lr 1.000000e-02 reg 1.500000e-07 hid 500  train accuracy: 0.334735 val accuracy: 0.337000\n",
      "lr 1.000000e-02 reg 2.000000e-07 hid 500  train accuracy: 0.323857 val accuracy: 0.328000\n",
      "lr 1.000000e-02 reg 2.500000e-07 hid 500  train accuracy: 0.331980 val accuracy: 0.328000\n",
      "lr 1.500000e-02 reg 5.000000e-08 hid 500  train accuracy: 0.451939 val accuracy: 0.431000\n",
      "lr 1.500000e-02 reg 1.000000e-07 hid 500  train accuracy: 0.451592 val accuracy: 0.438000\n",
      "lr 1.500000e-02 reg 1.500000e-07 hid 500  train accuracy: 0.448122 val accuracy: 0.436000\n",
      "lr 1.500000e-02 reg 2.000000e-07 hid 500  train accuracy: 0.450857 val accuracy: 0.435000\n",
      "lr 1.500000e-02 reg 2.500000e-07 hid 500  train accuracy: 0.451592 val accuracy: 0.438000\n",
      "lr 1.500000e-01 reg 5.000000e-08 hid 500  train accuracy: 0.673755 val accuracy: 0.589000\n",
      "lr 1.500000e-01 reg 1.000000e-07 hid 500  train accuracy: 0.671143 val accuracy: 0.606000\n",
      "lr 1.500000e-01 reg 1.500000e-07 hid 500  train accuracy: 0.670490 val accuracy: 0.606000\n",
      "lr 1.500000e-01 reg 2.000000e-07 hid 500  train accuracy: 0.671980 val accuracy: 0.598000\n",
      "lr 1.500000e-01 reg 2.500000e-07 hid 500  train accuracy: 0.675939 val accuracy: 0.596000\n",
      "lr 2.000000e-02 reg 5.000000e-08 hid 500  train accuracy: 0.491122 val accuracy: 0.485000\n",
      "lr 2.000000e-02 reg 1.000000e-07 hid 500  train accuracy: 0.489939 val accuracy: 0.484000\n",
      "lr 2.000000e-02 reg 1.500000e-07 hid 500  train accuracy: 0.489735 val accuracy: 0.485000\n",
      "lr 2.000000e-02 reg 2.000000e-07 hid 500  train accuracy: 0.489143 val accuracy: 0.480000\n",
      "lr 2.000000e-02 reg 2.500000e-07 hid 500  train accuracy: 0.489327 val accuracy: 0.474000\n",
      "lr 2.500000e-02 reg 5.000000e-08 hid 500  train accuracy: 0.509531 val accuracy: 0.503000\n",
      "lr 2.500000e-02 reg 1.000000e-07 hid 500  train accuracy: 0.511653 val accuracy: 0.497000\n",
      "lr 2.500000e-02 reg 1.500000e-07 hid 500  train accuracy: 0.510510 val accuracy: 0.496000\n",
      "lr 2.500000e-02 reg 2.000000e-07 hid 500  train accuracy: 0.510755 val accuracy: 0.505000\n",
      "lr 2.500000e-02 reg 2.500000e-07 hid 500  train accuracy: 0.511163 val accuracy: 0.502000\n",
      "lr 3.000000e-01 reg 5.000000e-08 hid 500  train accuracy: 0.766959 val accuracy: 0.585000\n",
      "lr 3.000000e-01 reg 1.000000e-07 hid 500  train accuracy: 0.763204 val accuracy: 0.591000\n",
      "lr 3.000000e-01 reg 1.500000e-07 hid 500  train accuracy: 0.766265 val accuracy: 0.588000\n",
      "lr 3.000000e-01 reg 2.000000e-07 hid 500  train accuracy: 0.764204 val accuracy: 0.573000\n",
      "lr 3.000000e-01 reg 2.500000e-07 hid 500  train accuracy: 0.765571 val accuracy: 0.590000\n",
      "lr 3.500000e-01 reg 5.000000e-08 hid 500  train accuracy: 0.780571 val accuracy: 0.584000\n",
      "lr 3.500000e-01 reg 1.000000e-07 hid 500  train accuracy: 0.776735 val accuracy: 0.564000\n",
      "lr 3.500000e-01 reg 1.500000e-07 hid 500  train accuracy: 0.775592 val accuracy: 0.587000\n",
      "lr 3.500000e-01 reg 2.000000e-07 hid 500  train accuracy: 0.781265 val accuracy: 0.580000\n",
      "lr 3.500000e-01 reg 2.500000e-07 hid 500  train accuracy: 0.782612 val accuracy: 0.584000\n",
      "lr 2.500000e-01 reg 5.000000e-08 hid 500  train accuracy: 0.741469 val accuracy: 0.593000\n",
      "lr 2.500000e-01 reg 1.000000e-07 hid 500  train accuracy: 0.740082 val accuracy: 0.603000\n",
      "lr 2.500000e-01 reg 1.500000e-07 hid 500  train accuracy: 0.740633 val accuracy: 0.580000\n",
      "lr 2.500000e-01 reg 2.000000e-07 hid 500  train accuracy: 0.735082 val accuracy: 0.579000\n",
      "lr 2.500000e-01 reg 2.500000e-07 hid 500  train accuracy: 0.736531 val accuracy: 0.602000\n",
      "lr 2.000000e-01 reg 5.000000e-08 hid 500  train accuracy: 0.708898 val accuracy: 0.579000\n",
      "lr 2.000000e-01 reg 1.000000e-07 hid 500  train accuracy: 0.713633 val accuracy: 0.592000\n",
      "lr 2.000000e-01 reg 1.500000e-07 hid 500  train accuracy: 0.714204 val accuracy: 0.596000\n",
      "lr 2.000000e-01 reg 2.000000e-07 hid 500  train accuracy: 0.710184 val accuracy: 0.584000\n",
      "lr 2.000000e-01 reg 2.500000e-07 hid 500  train accuracy: 0.714020 val accuracy: 0.587000\n",
      "best validation accuracy achieved: 0.606000\n"
     ]
    }
   ],
   "source": [
    "from deep_learning_su.classifiers.neural_net import TwoLayerNet\n",
    "\n",
    "input_dim = X_train_feats.shape[1]\n",
    "hidden_dim = 500\n",
    "num_classes = 10\n",
    "\n",
    "net = TwoLayerNet(input_dim, hidden_dim, num_classes)\n",
    "best_net = None\n",
    "\n",
    "learning_rates = [1e-2, 1.5e-2, 1.5e-1, 2e-2, 2.5e-2, 3e-1, 3.5e-1, 2.5e-1, 2e-1]\n",
    "regularization_strengths = [0.5e-7, 1e-7, 1.5e-7, 2e-7, 2.5e-7]\n",
    "\n",
    "################################################################################\n",
    "# TODO: Train a two-layer neural network on image features. You may want to    #\n",
    "# cross-validate various parameters as in previous sections. Store your best   #\n",
    "# model in the best_net variable.                                              #\n",
    "################################################################################\n",
    "\n",
    "for lr in learning_rates:\n",
    "    for reg in regularization_strengths:\n",
    "\n",
    "        net = TwoLayerNet(input_dim, hidden_dim, num_classes)\n",
    "        net.train(X_train_feats, y_train, X_val_feats, y_val,\n",
    "                        num_iters = 3000,\n",
    "                        batch_size = 256,\n",
    "                        learning_rate = lr,\n",
    "                        reg = reg)\n",
    "\n",
    "        y_train_pred = net.predict(X_train_feats)\n",
    "        train_accuracy = np.mean(y_train_pred == y_train)\n",
    "        \n",
    "        y_val_pred = net.predict(X_val_feats)\n",
    "        val_accuracy = np.mean(y_val_pred == y_val)\n",
    "        \n",
    "        if val_accuracy > best_val:\n",
    "            best_val = val_accuracy\n",
    "            best_net = net\n",
    "        \n",
    "\n",
    "        # Print results\n",
    "        print('lr %e reg %e hid %d  train accuracy: %f val accuracy: %f' % (\n",
    "                    lr, reg, hidden_dim, train_accuracy, val_accuracy))\n",
    "\n",
    "print('best validation accuracy achieved: %f' % best_val)\n",
    "################################################################################\n",
    "#                              END OF YOUR CODE                                #\n",
    "################################################################################"
   ]
  },
  {
   "cell_type": "code",
   "execution_count": 9,
   "metadata": {},
   "outputs": [
    {
     "name": "stdout",
     "output_type": "stream",
     "text": [
      "0.599\n"
     ]
    }
   ],
   "source": [
    "# Run your neural net classifier on the test set. You should be able to\n",
    "# get more than 55% accuracy.\n",
    "\n",
    "test_acc = (net.predict(X_test_feats) == y_test).mean()\n",
    "print(test_acc)"
   ]
  },
  {
   "cell_type": "markdown",
   "metadata": {},
   "source": [
    "# Bonus: Design your own features!\n",
    "\n",
    "You have seen that simple image features can improve classification performance. So far we have tried HOG and color histograms, but other types of features may be able to achieve even better classification performance.\n",
    "\n",
    "For bonus points, design and implement a new type of feature and use it for image classification on CIFAR-10. Explain how your feature works and why you expect it to be useful for image classification. Implement it in this notebook, cross-validate any hyperparameters, and compare its performance to the HOG + Color histogram baseline."
   ]
  },
  {
   "cell_type": "markdown",
   "metadata": {},
   "source": [
    "# Bonus: Do something extra!\n",
    "Use the material and code we have presented in this assignment to do something interesting. Was there another question we should have asked? Did any cool ideas pop into your head as you were working on the assignment? This is your chance to show off!"
   ]
  }
 ],
 "metadata": {
  "kernelspec": {
   "display_name": "Python 3.7.4 64-bit",
   "language": "python",
   "name": "python37464bite475327b357b44289d7067f313f043d3"
  },
  "language_info": {
   "codemirror_mode": {
    "name": "ipython",
    "version": 3
   },
   "file_extension": ".py",
   "mimetype": "text/x-python",
   "name": "python",
   "nbconvert_exporter": "python",
   "pygments_lexer": "ipython3",
   "version": "3.7.4"
  }
 },
 "nbformat": 4,
 "nbformat_minor": 2
}
