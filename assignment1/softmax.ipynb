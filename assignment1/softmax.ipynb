{
 "cells": [
  {
   "cell_type": "markdown",
   "metadata": {},
   "source": [
    "# Softmax exercise\n",
    "\n",
    "*Complete and hand in this completed worksheet (including its outputs and any supporting code outside of the worksheet) with your assignment submission. For more details see the [assignments page](https://deep-learning-su.github.io/assignment-requirements/) on the course website.*\n",
    "\n",
    "This exercise is analogous to the SVM exercise. You will:\n",
    "\n",
    "- implement a fully-vectorized **loss function** for the Softmax classifier\n",
    "- implement the fully-vectorized expression for its **analytic gradient**\n",
    "- **check your implementation** with numerical gradient\n",
    "- use a validation set to **tune the learning rate and regularization** strength\n",
    "- **optimize** the loss function with **SGD**\n",
    "- **visualize** the final learned weights\n"
   ]
  },
  {
   "cell_type": "code",
   "execution_count": 9,
   "metadata": {},
   "outputs": [
    {
     "name": "stdout",
     "output_type": "stream",
     "text": [
      "The autoreload extension is already loaded. To reload it, use:\n",
      "  %reload_ext autoreload\n"
     ]
    }
   ],
   "source": [
    "from __future__ import print_function\n",
    "\n",
    "import random\n",
    "import numpy as np\n",
    "from deep_learning_su.data_utils import load_CIFAR10\n",
    "import matplotlib.pyplot as plt\n",
    "\n",
    "\n",
    "%matplotlib inline\n",
    "plt.rcParams['figure.figsize'] = (10.0, 8.0) # set default size of plots\n",
    "plt.rcParams['image.interpolation'] = 'nearest'\n",
    "plt.rcParams['image.cmap'] = 'gray'\n",
    "\n",
    "# for auto-reloading extenrnal modules\n",
    "# see http://stackoverflow.com/questions/1907993/autoreload-of-modules-in-ipython\n",
    "%load_ext autoreload\n",
    "%autoreload 2\n",
    "\n",
    "import warnings\n",
    "warnings.filterwarnings(\"ignore\")"
   ]
  },
  {
   "cell_type": "code",
   "execution_count": 10,
   "metadata": {},
   "outputs": [
    {
     "name": "stdout",
     "output_type": "stream",
     "text": [
      "Train data shape:  (49000, 3073)\n",
      "Train labels shape:  (49000,)\n",
      "Validation data shape:  (1000, 3073)\n",
      "Validation labels shape:  (1000,)\n",
      "Test data shape:  (1000, 3073)\n",
      "Test labels shape:  (1000,)\n",
      "dev data shape:  (500, 3073)\n",
      "dev labels shape:  (500,)\n"
     ]
    }
   ],
   "source": [
    "def get_CIFAR10_data(num_training=49000, num_validation=1000, num_test=1000, num_dev=500):\n",
    "    \"\"\"\n",
    "    Load the CIFAR-10 dataset from disk and perform preprocessing to prepare\n",
    "    it for the linear classifier. These are the same steps as we used for the\n",
    "    SVM, but condensed to a single function.  \n",
    "    \"\"\"\n",
    "    # Load the raw CIFAR-10 data\n",
    "    cifar10_dir = 'deep_learning_su/datasets/cifar-10-batches-py'\n",
    "    X_train, y_train, X_test, y_test = load_CIFAR10(cifar10_dir)\n",
    "    \n",
    "    # subsample the data\n",
    "    mask = list(range(num_training, num_training + num_validation))\n",
    "    X_val = X_train[mask]\n",
    "    y_val = y_train[mask]\n",
    "    mask = list(range(num_training))\n",
    "    X_train = X_train[mask]\n",
    "    y_train = y_train[mask]\n",
    "    mask = list(range(num_test))\n",
    "    X_test = X_test[mask]\n",
    "    y_test = y_test[mask]\n",
    "    mask = np.random.choice(num_training, num_dev, replace=False)\n",
    "    X_dev = X_train[mask]\n",
    "    y_dev = y_train[mask]\n",
    "    \n",
    "    # Preprocessing: reshape the image data into rows\n",
    "    X_train = np.reshape(X_train, (X_train.shape[0], -1))\n",
    "    X_val = np.reshape(X_val, (X_val.shape[0], -1))\n",
    "    X_test = np.reshape(X_test, (X_test.shape[0], -1))\n",
    "    X_dev = np.reshape(X_dev, (X_dev.shape[0], -1))\n",
    "    \n",
    "    # Normalize the data: subtract the mean image\n",
    "    mean_image = np.mean(X_train, axis = 0)\n",
    "    X_train -= mean_image\n",
    "    X_val -= mean_image\n",
    "    X_test -= mean_image\n",
    "    X_dev -= mean_image\n",
    "    \n",
    "    # add bias dimension and transform into columns\n",
    "    X_train = np.hstack([X_train, np.ones((X_train.shape[0], 1))])\n",
    "    X_val = np.hstack([X_val, np.ones((X_val.shape[0], 1))])\n",
    "    X_test = np.hstack([X_test, np.ones((X_test.shape[0], 1))])\n",
    "    X_dev = np.hstack([X_dev, np.ones((X_dev.shape[0], 1))])\n",
    "    \n",
    "    return X_train, y_train, X_val, y_val, X_test, y_test, X_dev, y_dev\n",
    "\n",
    "\n",
    "# Invoke the above function to get our data.\n",
    "X_train, y_train, X_val, y_val, X_test, y_test, X_dev, y_dev = get_CIFAR10_data()\n",
    "print('Train data shape: ', X_train.shape)\n",
    "print('Train labels shape: ', y_train.shape)\n",
    "print('Validation data shape: ', X_val.shape)\n",
    "print('Validation labels shape: ', y_val.shape)\n",
    "print('Test data shape: ', X_test.shape)\n",
    "print('Test labels shape: ', y_test.shape)\n",
    "print('dev data shape: ', X_dev.shape)\n",
    "print('dev labels shape: ', y_dev.shape)"
   ]
  },
  {
   "cell_type": "markdown",
   "metadata": {},
   "source": [
    "## Softmax Classifier\n",
    "\n",
    "Your code for this section will all be written inside **deep_learning_su/classifiers/softmax.py**. \n"
   ]
  },
  {
   "cell_type": "code",
   "execution_count": 11,
   "metadata": {},
   "outputs": [
    {
     "name": "stdout",
     "output_type": "stream",
     "text": [
      "loss: 2.357873\n",
      "sanity check: 2.302585\n"
     ]
    }
   ],
   "source": [
    "# First implement the naive softmax loss function with nested loops.\n",
    "# Open the file deep_learning_su/classifiers/softmax.py and implement the\n",
    "# softmax_loss_naive function.\n",
    "\n",
    "from deep_learning_su.classifiers.softmax import softmax_loss_naive\n",
    "import time\n",
    "\n",
    "# Generate a random softmax weight matrix and use it to compute the loss.\n",
    "W = np.random.randn(3073, 10) * 0.0001\n",
    "loss, grad = softmax_loss_naive(W, X_dev, y_dev, 0.0)\n",
    "\n",
    "# As a rough sanity check, our loss should be something close to -log(0.1).\n",
    "print('loss: %f' % loss)\n",
    "print('sanity check: %f' % (-np.log(0.1)))"
   ]
  },
  {
   "cell_type": "markdown",
   "metadata": {},
   "source": [
    "## Inline Question 1:\n",
    "Why do we expect our loss to be close to -log(0.1)? Explain briefly.**\n",
    "\n",
    "**Your answer:** At the beginning all classes have equal probability to be chosen. We have 10 classes in the dataset, so the probability of the correct class is 0.1 and because softmax loss function is the negative log probability of the correct class it is expected that the loss will be close to **-log(0.1)**.\n"
   ]
  },
  {
   "cell_type": "code",
   "execution_count": 12,
   "metadata": {},
   "outputs": [
    {
     "name": "stdout",
     "output_type": "stream",
     "text": [
      "numerical: 2.351979 analytic: 2.351979, relative error: 3.595411e-08\n",
      "numerical: 0.841315 analytic: 0.841315, relative error: 5.341854e-08\n",
      "numerical: -0.295004 analytic: -0.295004, relative error: 1.130713e-07\n",
      "numerical: -1.320986 analytic: -1.320986, relative error: 9.753140e-09\n",
      "numerical: 2.085535 analytic: 2.085535, relative error: 1.666029e-08\n",
      "numerical: 0.280204 analytic: 0.280204, relative error: 7.169079e-08\n",
      "numerical: -4.588166 analytic: -4.588166, relative error: 8.729197e-09\n",
      "numerical: 0.164479 analytic: 0.164479, relative error: 2.458039e-08\n",
      "numerical: 2.010943 analytic: 2.010943, relative error: 3.214853e-08\n",
      "numerical: 1.603718 analytic: 1.603718, relative error: 2.272501e-08\n",
      "numerical: -1.830157 analytic: -1.830157, relative error: 2.008109e-09\n",
      "numerical: -1.365045 analytic: -1.365045, relative error: 3.897220e-08\n",
      "numerical: -0.059671 analytic: -0.059671, relative error: 4.005158e-07\n",
      "numerical: 0.932349 analytic: 0.932349, relative error: 4.321273e-08\n",
      "numerical: -1.230271 analytic: -1.230271, relative error: 3.994885e-08\n",
      "numerical: 0.127372 analytic: 0.127372, relative error: 4.848026e-07\n",
      "numerical: 0.097546 analytic: 0.097546, relative error: 1.311420e-07\n",
      "numerical: -3.030203 analytic: -3.030203, relative error: 4.915464e-09\n",
      "numerical: -2.352945 analytic: -2.352945, relative error: 4.375391e-09\n",
      "numerical: 3.213862 analytic: 3.213862, relative error: 5.697537e-09\n"
     ]
    }
   ],
   "source": [
    "# Complete the implementation of softmax_loss_naive and implement a (naive)\n",
    "# version of the gradient that uses nested loops.\n",
    "loss, grad = softmax_loss_naive(W, X_dev, y_dev, 0.0)\n",
    "\n",
    "# As we did for the SVM, use numeric gradient checking as a debugging tool.\n",
    "# The numeric gradient should be close to the analytic gradient.\n",
    "from deep_learning_su.gradient_check import grad_check_sparse\n",
    "f = lambda w: softmax_loss_naive(w, X_dev, y_dev, 0.0)[0]\n",
    "grad_numerical = grad_check_sparse(f, W, grad, 10)\n",
    "\n",
    "# similar to SVM case, do another gradient check with regularization\n",
    "loss, grad = softmax_loss_naive(W, X_dev, y_dev, 5e1)\n",
    "f = lambda w: softmax_loss_naive(w, X_dev, y_dev, 5e1)[0]\n",
    "grad_numerical = grad_check_sparse(f, W, grad, 10)"
   ]
  },
  {
   "cell_type": "code",
   "execution_count": 13,
   "metadata": {},
   "outputs": [
    {
     "name": "stdout",
     "output_type": "stream",
     "text": [
      "naive loss: 2.357873e+00 computed in 0.232885s\n",
      "vectorized loss: 2.357873e+00 computed in 0.005989s\n",
      "Loss difference: 0.000000\n",
      "Gradient difference: 0.000000\n"
     ]
    }
   ],
   "source": [
    "# Now that we have a naive implementation of the softmax loss function and its gradient,\n",
    "# implement a vectorized version in softmax_loss_vectorized.\n",
    "# The two versions should compute the same results, but the vectorized version should be\n",
    "# much faster.\n",
    "tic = time.time()\n",
    "loss_naive, grad_naive = softmax_loss_naive(W, X_dev, y_dev, 0.000005)\n",
    "toc = time.time()\n",
    "print('naive loss: %e computed in %fs' % (loss_naive, toc - tic))\n",
    "\n",
    "from deep_learning_su.classifiers.softmax import softmax_loss_vectorized\n",
    "tic = time.time()\n",
    "loss_vectorized, grad_vectorized = softmax_loss_vectorized(W, X_dev, y_dev, 0.000005)\n",
    "toc = time.time()\n",
    "print('vectorized loss: %e computed in %fs' % (loss_vectorized, toc - tic))\n",
    "\n",
    "# As we did for the SVM, we use the Frobenius norm to compare the two versions\n",
    "# of the gradient.\n",
    "grad_difference = np.linalg.norm(grad_naive - grad_vectorized, ord='fro')\n",
    "print('Loss difference: %f' % np.abs(loss_naive - loss_vectorized))\n",
    "print('Gradient difference: %f' % grad_difference)"
   ]
  },
  {
   "cell_type": "code",
   "execution_count": 14,
   "metadata": {},
   "outputs": [
    {
     "name": "stdout",
     "output_type": "stream",
     "text": [
      "lr 1.000000e-07 reg 1.500000e+04 train accuracy: 0.347898 val accuracy: 0.364000\n",
      "lr 1.000000e-07 reg 2.000000e+04 train accuracy: 0.336878 val accuracy: 0.355000\n",
      "lr 1.000000e-07 reg 2.500000e+04 train accuracy: 0.329327 val accuracy: 0.339000\n",
      "lr 1.000000e-07 reg 3.000000e+04 train accuracy: 0.331633 val accuracy: 0.350000\n",
      "lr 1.000000e-07 reg 3.500000e+04 train accuracy: 0.324878 val accuracy: 0.347000\n",
      "lr 1.000000e-07 reg 4.000000e+04 train accuracy: 0.312755 val accuracy: 0.324000\n",
      "lr 1.000000e-07 reg 4.500000e+04 train accuracy: 0.307531 val accuracy: 0.327000\n",
      "lr 1.000000e-07 reg 5.000000e+04 train accuracy: 0.305265 val accuracy: 0.315000\n",
      "lr 1.000000e-07 reg 6.000000e+04 train accuracy: 0.303449 val accuracy: 0.321000\n",
      "lr 2.000000e-07 reg 1.500000e+04 train accuracy: 0.347388 val accuracy: 0.365000\n",
      "lr 2.000000e-07 reg 2.000000e+04 train accuracy: 0.330878 val accuracy: 0.342000\n",
      "lr 2.000000e-07 reg 2.500000e+04 train accuracy: 0.326224 val accuracy: 0.340000\n",
      "lr 2.000000e-07 reg 3.000000e+04 train accuracy: 0.321878 val accuracy: 0.336000\n",
      "lr 2.000000e-07 reg 3.500000e+04 train accuracy: 0.310286 val accuracy: 0.325000\n",
      "lr 2.000000e-07 reg 4.000000e+04 train accuracy: 0.316959 val accuracy: 0.329000\n",
      "lr 2.000000e-07 reg 4.500000e+04 train accuracy: 0.305918 val accuracy: 0.316000\n",
      "lr 2.000000e-07 reg 5.000000e+04 train accuracy: 0.307816 val accuracy: 0.326000\n",
      "lr 2.000000e-07 reg 6.000000e+04 train accuracy: 0.300755 val accuracy: 0.308000\n",
      "lr 5.000000e-07 reg 1.500000e+04 train accuracy: 0.337143 val accuracy: 0.349000\n",
      "lr 5.000000e-07 reg 2.000000e+04 train accuracy: 0.337082 val accuracy: 0.341000\n",
      "lr 5.000000e-07 reg 2.500000e+04 train accuracy: 0.323857 val accuracy: 0.345000\n",
      "lr 5.000000e-07 reg 3.000000e+04 train accuracy: 0.317531 val accuracy: 0.321000\n",
      "lr 5.000000e-07 reg 3.500000e+04 train accuracy: 0.308592 val accuracy: 0.319000\n",
      "lr 5.000000e-07 reg 4.000000e+04 train accuracy: 0.303102 val accuracy: 0.331000\n",
      "lr 5.000000e-07 reg 4.500000e+04 train accuracy: 0.300531 val accuracy: 0.314000\n",
      "lr 5.000000e-07 reg 5.000000e+04 train accuracy: 0.311571 val accuracy: 0.310000\n",
      "lr 5.000000e-07 reg 6.000000e+04 train accuracy: 0.294122 val accuracy: 0.299000\n",
      "lr 1.000000e-06 reg 1.500000e+04 train accuracy: 0.341347 val accuracy: 0.365000\n",
      "lr 1.000000e-06 reg 2.000000e+04 train accuracy: 0.318837 val accuracy: 0.321000\n",
      "lr 1.000000e-06 reg 2.500000e+04 train accuracy: 0.318918 val accuracy: 0.336000\n",
      "lr 1.000000e-06 reg 3.000000e+04 train accuracy: 0.312959 val accuracy: 0.334000\n",
      "lr 1.000000e-06 reg 3.500000e+04 train accuracy: 0.309408 val accuracy: 0.315000\n",
      "lr 1.000000e-06 reg 4.000000e+04 train accuracy: 0.308939 val accuracy: 0.325000\n",
      "lr 1.000000e-06 reg 4.500000e+04 train accuracy: 0.281776 val accuracy: 0.299000\n",
      "lr 1.000000e-06 reg 5.000000e+04 train accuracy: 0.290020 val accuracy: 0.293000\n",
      "lr 1.000000e-06 reg 6.000000e+04 train accuracy: 0.294796 val accuracy: 0.298000\n",
      "lr 1.000000e-05 reg 1.500000e+04 train accuracy: 0.209020 val accuracy: 0.216000\n",
      "lr 1.000000e-05 reg 2.000000e+04 train accuracy: 0.149204 val accuracy: 0.140000\n",
      "lr 1.000000e-05 reg 2.500000e+04 train accuracy: 0.113020 val accuracy: 0.120000\n",
      "lr 1.000000e-05 reg 3.000000e+04 train accuracy: 0.145939 val accuracy: 0.132000\n",
      "lr 1.000000e-05 reg 3.500000e+04 train accuracy: 0.142735 val accuracy: 0.122000\n",
      "lr 1.000000e-05 reg 4.000000e+04 train accuracy: 0.116918 val accuracy: 0.132000\n",
      "lr 1.000000e-05 reg 4.500000e+04 train accuracy: 0.120633 val accuracy: 0.123000\n",
      "lr 1.000000e-05 reg 5.000000e+04 train accuracy: 0.132857 val accuracy: 0.139000\n",
      "lr 1.000000e-05 reg 6.000000e+04 train accuracy: 0.111122 val accuracy: 0.096000\n",
      "lr 3.000000e-05 reg 1.500000e+04 train accuracy: 0.066898 val accuracy: 0.062000\n",
      "lr 3.000000e-05 reg 2.000000e+04 train accuracy: 0.129184 val accuracy: 0.147000\n",
      "lr 3.000000e-05 reg 2.500000e+04 train accuracy: 0.088776 val accuracy: 0.089000\n",
      "lr 3.000000e-05 reg 3.000000e+04 train accuracy: 0.073408 val accuracy: 0.072000\n",
      "lr 3.000000e-05 reg 3.500000e+04 train accuracy: 0.096245 val accuracy: 0.107000\n",
      "lr 3.000000e-05 reg 4.000000e+04 train accuracy: 0.070469 val accuracy: 0.067000\n",
      "lr 3.000000e-05 reg 4.500000e+04 train accuracy: 0.100265 val accuracy: 0.087000\n",
      "lr 3.000000e-05 reg 5.000000e+04 train accuracy: 0.100265 val accuracy: 0.087000\n",
      "lr 3.000000e-05 reg 6.000000e+04 train accuracy: 0.100265 val accuracy: 0.087000\n",
      "lr 1.000000e-04 reg 1.500000e+04 train accuracy: 0.100265 val accuracy: 0.087000\n",
      "lr 1.000000e-04 reg 2.000000e+04 train accuracy: 0.100265 val accuracy: 0.087000\n",
      "lr 1.000000e-04 reg 2.500000e+04 train accuracy: 0.100265 val accuracy: 0.087000\n",
      "lr 1.000000e-04 reg 3.000000e+04 train accuracy: 0.100265 val accuracy: 0.087000\n",
      "lr 1.000000e-04 reg 3.500000e+04 train accuracy: 0.100265 val accuracy: 0.087000\n",
      "lr 1.000000e-04 reg 4.000000e+04 train accuracy: 0.100265 val accuracy: 0.087000\n",
      "lr 1.000000e-04 reg 4.500000e+04 train accuracy: 0.100265 val accuracy: 0.087000\n",
      "lr 1.000000e-04 reg 5.000000e+04 train accuracy: 0.100265 val accuracy: 0.087000\n",
      "lr 1.000000e-04 reg 6.000000e+04 train accuracy: 0.100265 val accuracy: 0.087000\n",
      "best validation accuracy achieved during cross-validation: 0.365000\n"
     ]
    }
   ],
   "source": [
    "# Use the validation set to tune hyperparameters (regularization strength and\n",
    "# learning rate). You should experiment with different ranges for the learning\n",
    "# rates and regularization strengths; if you are careful you should be able to\n",
    "# get a classification accuracy of over 0.35 on the validation set.\n",
    "from deep_learning_su.classifiers import Softmax\n",
    "results = {}\n",
    "best_val = -1\n",
    "best_softmax = None\n",
    "learning_rates = [1e-4, 1e-5, 1e-6, 1e-7, 2e-7, 3e-5, 5e-7]\n",
    "regularization_strengths = [1.5e4, 2e4, 2.5e4, 3e4, 3.5e4, 4e4, 4.5e4, 5e4, 6e4]\n",
    "\n",
    "################################################################################\n",
    "# TODO:                                                                        #\n",
    "# Use the validation set to set the learning rate and regularization strength. #\n",
    "# This should be identical to the validation that you did for the SVM; save    #\n",
    "# the best trained softmax classifer in best_softmax.                          #\n",
    "################################################################################\n",
    "grid_search = [(lr,rg) for lr in learning_rates for rg in regularization_strengths]\n",
    "\n",
    "for lr, rg in grid_search:\n",
    "    softmax = Softmax()\n",
    "\n",
    "    train_loss = softmax.train(X_train, y_train, learning_rate=lr, reg=rg, num_iters=1500, verbose=False)\n",
    "\n",
    "    y_train_pred = softmax.predict(X_train)\n",
    "    train_accuracy = np.mean(y_train_pred == y_train)\n",
    "\n",
    "    y_val_pred = softmax.predict(X_val)\n",
    "    val_accuracy = np.mean(y_val_pred == y_val)\n",
    "    \n",
    "    results[(lr,rg)] = (train_accuracy, val_accuracy)\n",
    "\n",
    "    if best_val < val_accuracy:\n",
    "        best_val = val_accuracy\n",
    "        best_softmax = softmax\n",
    "################################################################################\n",
    "#                              END OF YOUR CODE                                #\n",
    "################################################################################\n",
    "    \n",
    "# Print out results.\n",
    "for lr, reg in sorted(results):\n",
    "    train_accuracy, val_accuracy = results[(lr, reg)]\n",
    "    print('lr %e reg %e train accuracy: %f val accuracy: %f' % (\n",
    "                lr, reg, train_accuracy, val_accuracy))\n",
    "    \n",
    "print('best validation accuracy achieved during cross-validation: %f' % best_val)"
   ]
  },
  {
   "cell_type": "code",
   "execution_count": 15,
   "metadata": {},
   "outputs": [
    {
     "name": "stdout",
     "output_type": "stream",
     "text": [
      "softmax on raw pixels final test set accuracy: 0.361000\n"
     ]
    }
   ],
   "source": [
    "# evaluate on test set\n",
    "# Evaluate the best softmax on test set\n",
    "y_test_pred = best_softmax.predict(X_test)\n",
    "test_accuracy = np.mean(y_test == y_test_pred)\n",
    "print('softmax on raw pixels final test set accuracy: %f' % (test_accuracy, ))"
   ]
  },
  {
   "cell_type": "code",
   "execution_count": 16,
   "metadata": {},
   "outputs": [
    {
     "data": {
      "image/png": "[encoded data removed]",
      "text/plain": [
       "<Figure size 720x576 with 10 Axes>"
      ]
     },
     "metadata": {
      "needs_background": "light"
     },
     "output_type": "display_data"
    }
   ],
   "source": [
    "# Visualize the learned weights for each class\n",
    "w = best_softmax.W[:-1,:] # strip out the bias\n",
    "w = w.reshape(32, 32, 3, 10)\n",
    "\n",
    "w_min, w_max = np.min(w), np.max(w)\n",
    "\n",
    "classes = ['plane', 'car', 'bird', 'cat', 'deer', 'dog', 'frog', 'horse', 'ship', 'truck']\n",
    "for i in range(10):\n",
    "    plt.subplot(2, 5, i + 1)\n",
    "    \n",
    "    # Rescale the weights to be between 0 and 255\n",
    "    wimg = 255.0 * (w[:, :, :, i].squeeze() - w_min) / (w_max - w_min)\n",
    "    plt.imshow(wimg.astype('uint8'))\n",
    "    plt.axis('off')\n",
    "    plt.title(classes[i])"
   ]
  }
 ],
 "metadata": {
  "kernelspec": {
   "display_name": "Python 3.7.4 64-bit",
   "language": "python",
   "name": "python37464bite475327b357b44289d7067f313f043d3"
  },
  "language_info": {
   "codemirror_mode": {
    "name": "ipython",
    "version": 3
   },
   "file_extension": ".py",
   "mimetype": "text/x-python",
   "name": "python",
   "nbconvert_exporter": "python",
   "pygments_lexer": "ipython3",
   "version": "3.7.4"
  }
 },
 "nbformat": 4,
 "nbformat_minor": 2
}
